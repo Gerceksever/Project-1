{
 "cells": [
  {
   "cell_type": "markdown",
   "metadata": {},
   "source": [
    "# TURKEY'S POSITION IN GLOBAL TERRORISM DATABASE (1970-2017)           "
   ]
  },
  {
   "cell_type": "markdown",
   "metadata": {},
   "source": [
    "### AN EXPLORATORY DATA ANALYSIS (EDA) PREPARED BY ABDULKADİR GERÇEKSEVER"
   ]
  },
  {
   "cell_type": "raw",
   "metadata": {},
   "source": [
    "Contents\n",
    "1. Introduction\n",
    "2. The Aim of Analysis\n",
    "3. General View of the Data\n",
    "4. Data Wrangling\n",
    "5. Data Exploration\n",
    "6. Conclusions"
   ]
  },
  {
   "cell_type": "markdown",
   "metadata": {},
   "source": [
    "### Introduction \n",
    "\n",
    "The Global Terrorism Database (GTD) is an open-source database including information on terrorist attacks around the world from 1970 through 2017. The GTD includes systematic data based on information on more than 180,000 terrorist attacks which have occurred during this time period. The database is maintained by researchers at the National Consortium for the Study of Terrorism and Responses to Terrorism (START), headquartered at the University of Maryland. So we are using this material to achieve the best results on our analysis. "
   ]
  },
  {
   "cell_type": "markdown",
   "metadata": {},
   "source": [
    "### The Aim of Analysis\n",
    "\n",
    "The main aim of this explarotary data analysis is to achieve more clear vision on the terrorist activities not only at world but also in Turkey during the years 1970-2017. We will get better understanding on what's going on the terrorism side of world and Turkey when we finish to analyze the data."
   ]
  },
  {
   "cell_type": "markdown",
   "metadata": {},
   "source": [
    "### General View of the Data\n",
    "\n",
    "Variables which are used during EDA:\n",
    "\n",
    "Year: The year in which the incident occurred.\n",
    "\n",
    "Month: The number of the month in which the incident occurred.\n",
    "\n",
    "Day: The numeric day of the month on which the incident occurred.\n",
    "\n",
    "Country: The country or location where the incident occurred. \n",
    "\n",
    "Region: The region in which the incident occurred. The regions are divided into the 12 categories.\n",
    "\n",
    "City: The name of the city, village, or town in which the incident occurred. \n",
    "\n",
    "Lat.: The latitude (based on WGS1984 standards) of the city in which the event occurred.\n",
    "\n",
    "Long.: The longitude (based on WGS1984 standards) of the city in which the event occurred.\n",
    "\n",
    "AttackType: The general method of attack and often reflects the broad class of tactics used. It consists of nine categories.\n",
    "\n",
    "Killed: The number of total confirmed fatalities for the incident\n",
    "\n",
    "Wounded: The number of confirmed non-fatal injuries to both perpetrators and victims.\n",
    "\n",
    "Target: The specific person, building, installation, etc., that was targeted and/or victimized and is a part of the entity. \n",
    "\n",
    "Group: The name of the group that carried out the attack.\n",
    "\n",
    "Target_type: The general type of target/victim. This variable consists of the following 22 categories.\n",
    "\n",
    "Weapon_type: The type of weapon. Up to four weapon types are recorded for each incident. It consists 13 categories\n",
    "\n",
    "Motive: When reports explicitly mention a specific motive for the attack, this motive is recorded here."
   ]
  },
  {
   "cell_type": "code",
   "execution_count": null,
   "metadata": {},
   "outputs": [],
   "source": [
    "# importing modules which are going to use during EDA\n",
    "\n",
    "import pandas as pd\n",
    "import numpy as np\n",
    "import matplotlib.pyplot as plt\n",
    "import seaborn as sns\n",
    "import scipy.stats as stats\n",
    "from scipy.stats.mstats import winsorize\n",
    "from statsmodels.stats.weightstats import ttest_ind\n",
    "import io\n",
    "import codecs\n",
    "import base64\n",
    "%matplotlib inline\n",
    "from IPython.display import HTML, display\n",
    "from matplotlib import animation,rc\n",
    "import plotly.offline as py\n",
    "py.init_notebook_mode(connected=True)\n",
    "import plotly.graph_objs as go\n",
    "from mpl_toolkits.basemap import Basemap\n",
    "import plotly.tools as tls\n",
    "import time\n",
    "import warnings\n",
    "\n",
    "warnings.filterwarnings('ignore')"
   ]
  },
  {
   "cell_type": "code",
   "execution_count": null,
   "metadata": {},
   "outputs": [],
   "source": [
    "# the first look through the data \n",
    "\n",
    "Terror_World = pd.read_csv(\"GTD.csv\", encoding = \"ISO-8859-1\")\n",
    "Terror_World.head()"
   ]
  },
  {
   "cell_type": "code",
   "execution_count": null,
   "metadata": {},
   "outputs": [],
   "source": [
    "# data types and numbers of variables\n",
    "\n",
    "Terror_World.info()"
   ]
  },
  {
   "cell_type": "code",
   "execution_count": null,
   "metadata": {},
   "outputs": [],
   "source": [
    "# we need to see 135 columns to understand what we have in the data\n",
    "\n",
    "for i in Terror_World.columns:\n",
    "    print(i)"
   ]
  },
  {
   "cell_type": "code",
   "execution_count": null,
   "metadata": {},
   "outputs": [],
   "source": [
    "# we need to see rows and columns together to grasp the data\n",
    "\n",
    "for i in range (0, 136, 10):\n",
    "    display (Terror_World.iloc[0:3, i:i+10])"
   ]
  },
  {
   "cell_type": "code",
   "execution_count": null,
   "metadata": {},
   "outputs": [],
   "source": [
    "# rename the columns which we need to use during our EDA\n",
    "\n",
    "Terror_World.rename(columns={'iyear':'Year','imonth':'Month','iday':'Day','country_txt':'Country', 'region_txt':'Region',\n",
    "                             'city':'City', 'latitude':'Lat.', 'longitude':'Long.', 'attacktype1_txt':'AttackType','target1':'Target','nkill':'Killed',\n",
    "                       'nwound':'Wounded', 'gname':'Group','targtype1_txt':'Target_type',\n",
    "                       'weaptype1_txt':'Weapon_type','motive':'Motive'},\n",
    "              inplace=True)"
   ]
  },
  {
   "cell_type": "code",
   "execution_count": null,
   "metadata": {},
   "outputs": [],
   "source": [
    "# new Terror data set which we are going to work on\n",
    "\n",
    "Terror_World=Terror_World[['Year','Month','Day','Country','Region', 'City', 'Lat.','Long.', 'AttackType','Killed','Wounded',\n",
    "                           'Target', 'Group','Target_type','Weapon_type','Motive']]\n",
    "\n",
    "Terror_World"
   ]
  },
  {
   "cell_type": "code",
   "execution_count": null,
   "metadata": {},
   "outputs": [],
   "source": [
    "# new data types and numbers of variables which we are going to work on\n",
    "\n",
    "Terror_World.info()"
   ]
  },
  {
   "cell_type": "markdown",
   "metadata": {},
   "source": [
    "### Data Wrangling"
   ]
  },
  {
   "cell_type": "code",
   "execution_count": null,
   "metadata": {
    "scrolled": true
   },
   "outputs": [],
   "source": [
    "# info of NaN in our data set as percentage\n",
    "\n",
    "Terror_World.isnull().sum()*100/Terror_World.shape[0]"
   ]
  },
  {
   "cell_type": "code",
   "execution_count": null,
   "metadata": {},
   "outputs": [],
   "source": [
    "Terror=Terror_World.copy()"
   ]
  },
  {
   "cell_type": "code",
   "execution_count": null,
   "metadata": {
    "scrolled": false
   },
   "outputs": [],
   "source": [
    "# dropping the NaNs from 'City' and 'Target'\n",
    "\n",
    "Terror=Terror.dropna(subset=['City', 'Target'])"
   ]
  },
  {
   "cell_type": "code",
   "execution_count": null,
   "metadata": {},
   "outputs": [],
   "source": [
    "# filling the NaNs with median\n",
    "\n",
    "Terror['Killed'] = Terror['Killed'].fillna(Terror['Killed'].median())\n",
    "Terror['Wounded'] = Terror['Wounded'].fillna(Terror['Killed'].median())\n",
    "Terror['Casualities']=Terror['Killed']+Terror['Wounded']"
   ]
  },
  {
   "cell_type": "code",
   "execution_count": null,
   "metadata": {},
   "outputs": [],
   "source": [
    "# filling the NaNs of 'Lat.' with 39 and the NaNs of 'Long.' with 35.15\n",
    "\n",
    "Terror['Lat.'] = Terror['Lat.'].fillna(39)\n",
    "Terror['Long.'] = Terror['Long.'].fillna(35.15)"
   ]
  },
  {
   "cell_type": "code",
   "execution_count": null,
   "metadata": {},
   "outputs": [],
   "source": [
    "Terror.isnull().sum()*100/Terror.shape[0]"
   ]
  },
  {
   "cell_type": "code",
   "execution_count": null,
   "metadata": {},
   "outputs": [],
   "source": [
    "Terror.describe()"
   ]
  },
  {
   "cell_type": "markdown",
   "metadata": {},
   "source": [
    "### Categorical Variables\n",
    "- Country\n",
    "- Region\n",
    "- City\n",
    "- Attacktype\n",
    "- Target\n",
    "- Group\n",
    "- Target_type\n",
    "- Weapon_type\n",
    "- Motive"
   ]
  },
  {
   "cell_type": "markdown",
   "metadata": {},
   "source": [
    "### Continuous Variables\n",
    "\n",
    "- Year\n",
    "- Month\n",
    "- Day\n",
    "- Lat.\n",
    "- Long.\n",
    "- Killed\n",
    "- Wounded\n",
    "- Casualties"
   ]
  },
  {
   "cell_type": "markdown",
   "metadata": {},
   "source": [
    "### Data Exploration"
   ]
  },
  {
   "cell_type": "code",
   "execution_count": null,
   "metadata": {},
   "outputs": [],
   "source": [
    "# Number of terrorist activities by year\n",
    "\n",
    "plt.subplots(figsize=(14,6))\n",
    "sns.countplot('Year',data=Terror,palette='Spectral')\n",
    "plt.xticks(rotation=70)\n",
    "plt.title('Number Of Terrorist Activities By Year', color='red')\n",
    "plt.show()"
   ]
  },
  {
   "cell_type": "code",
   "execution_count": null,
   "metadata": {},
   "outputs": [],
   "source": [
    "# to see the Country and the regions with highest terrorist attacks and also the max. killed attack\n",
    "\n",
    "print('Regions with Highest Terrorist Attacks:',Terror['Region'].value_counts().index[0])\n",
    "print('Country with Highest Terrorist Attacks:',Terror['Country'].value_counts().index[0])\n",
    "print('Maximum people killed in an attack are:',Terror['Killed'].max(),'that happened in',Terror.loc[Terror['Killed'].idxmax()].Country)"
   ]
  },
  {
   "cell_type": "code",
   "execution_count": null,
   "metadata": {},
   "outputs": [],
   "source": [
    "# Number of terrorist attacks by region on chart\n",
    "\n",
    "plt.subplots(figsize=(14,6))\n",
    "sns.countplot('Region',data=Terror,palette='Spectral',order=Terror['Region'].value_counts().index)\n",
    "plt.xticks(rotation=90)\n",
    "plt.title('Number Of Terrorist Activities By Region', color='red')\n",
    "plt.show()"
   ]
  },
  {
   "cell_type": "code",
   "execution_count": null,
   "metadata": {},
   "outputs": [],
   "source": [
    "# The first 18 countries by the most killed ones in terrorist attacks\n",
    "\n",
    "KilledByTerror=Terror.groupby('Country').sum().sort_values('Killed', ascending=False).iloc[:18].Killed"
   ]
  },
  {
   "cell_type": "code",
   "execution_count": null,
   "metadata": {
    "scrolled": false
   },
   "outputs": [],
   "source": [
    "# Number of terrorist attacks and number of killed by country on charts\n",
    "\n",
    "plt.subplots(figsize=(12,6))\n",
    "plt.subplot(1,2,1)\n",
    "sns.countplot('Country',data=Terror,palette='Spectral', \n",
    "              order=Terror.Country.value_counts().iloc[:15].index)\n",
    "plt.xticks(rotation=70)\n",
    "plt.title('Number Of Terrorist Attacks by Country', fontsize=16, color='red')\n",
    "\n",
    "plt.subplot(1,2,2)\n",
    "plt.bar(KilledByTerror.index, KilledByTerror)\n",
    "plt.xticks(rotation=70)\n",
    "plt.title('Number Of Killed by Country', fontsize=16, color='red')\n",
    "\n",
    "plt.show()"
   ]
  },
  {
   "cell_type": "code",
   "execution_count": null,
   "metadata": {},
   "outputs": [],
   "source": [
    "# Attacking methods by terrorists\n",
    "\n",
    "plt.subplots(figsize=(14,6))\n",
    "sns.countplot('AttackType', data=Terror,palette='Spectral',order=Terror['AttackType'].value_counts().index)\n",
    "plt.xticks(rotation=70)\n",
    "plt.title('Attacking Methods by Terrorists', fontsize=16, color='red')\n",
    "plt.show()"
   ]
  },
  {
   "cell_type": "code",
   "execution_count": null,
   "metadata": {},
   "outputs": [],
   "source": [
    "# Favorite targets of attacks\n",
    "\n",
    "plt.subplots(figsize=(14,6))\n",
    "sns.countplot(Terror['Target_type'],palette='Spectral',order=Terror['Target_type'].value_counts().index)\n",
    "plt.xticks(rotation=90)\n",
    "plt.title('Favorite Targets', fontsize=16, color='red')\n",
    "plt.show()"
   ]
  },
  {
   "cell_type": "code",
   "execution_count": null,
   "metadata": {
    "scrolled": false
   },
   "outputs": [],
   "source": [
    "# Terrorist groups by highest terror attacks\n",
    "\n",
    "sns.barplot(Terror['Group'].value_counts()[1:15],Terror['Group'].value_counts()[1:15].index,palette=('Spectral'))\n",
    "plt.xticks(rotation=90)\n",
    "fig=plt.gcf()\n",
    "fig.set_size_inches(10,8)\n",
    "plt.title('Terrorist Groups by Highest Terror Attacks', fontsize=16, color='red')\n",
    "plt.show()"
   ]
  },
  {
   "cell_type": "code",
   "execution_count": null,
   "metadata": {},
   "outputs": [],
   "source": [
    "TR_Terror=Terror[Terror['Country']=='Turkey']\n",
    "TR_Terror"
   ]
  },
  {
   "cell_type": "code",
   "execution_count": null,
   "metadata": {},
   "outputs": [],
   "source": [
    "TR_Terror.info()"
   ]
  },
  {
   "cell_type": "code",
   "execution_count": null,
   "metadata": {
    "scrolled": true
   },
   "outputs": [],
   "source": [
    "TR_Terror.isnull().sum()*100/TR_Terror.shape[0]"
   ]
  },
  {
   "cell_type": "code",
   "execution_count": null,
   "metadata": {
    "scrolled": false
   },
   "outputs": [],
   "source": [
    "# Number of attacks by year\n",
    "\n",
    "TR_Terror.Year.plot(kind = 'hist', color = 'b', bins=range(1970, 2018), figsize = (15,7), alpha=0.5, grid=True)\n",
    "plt.xticks(range(1970, 2018), rotation=90, fontsize=14)\n",
    "plt.yticks(fontsize=14)\n",
    "plt.xlabel(\"Year\", fontsize=15)\n",
    "plt.ylabel(\"Number of Attacks\", fontsize=15)\n",
    "plt.xticks(rotation=70)\n",
    "plt.title(\"Number of Attacks By Year\", fontsize=16, color = 'r')\n",
    "plt.show()"
   ]
  },
  {
   "cell_type": "code",
   "execution_count": null,
   "metadata": {},
   "outputs": [],
   "source": [
    "# Most targeted part of Turkey\n",
    "\n",
    "Parts= [\"NorthEast\", \"NorthWest\", \"SouthEast\", \"SouthWest\"]\n",
    "\n",
    "\n",
    "TR_Terror[TR_Terror['Long.'] > 35.15]\n",
    "\n",
    "\n",
    "NorthEast=TR_Terror[TR_Terror['Long.'] > 35.15] or TR_Terror[TR_Terror['Lat.'] > 39]\n",
    "NorthWest=TR_Terror[TR_Terror['Long.'] < 35.15] or TR_Terror[TR_Terror['Lat.'] > 39]\n",
    "SouthEast=TR_Terror[TR_Terror['Long.'] > 35.15] or TR_Terror[TR_Terror['Lat.'] < 39]\n",
    "SouthWest=TR_Terror[TR_Terror['Long.'] < 35.15] or TR_Terror[TR_Terror['Lat.'] < 39]\n",
    "\n",
    "TR_East=TR_Terror[TR_Terror['Long.'] > 35.15]\n",
    "TR_SouthEast=TR_East[TR_East['Lat.'] < 39]\n",
    "\n",
    "TR_Terror.City.value_counts().drop('Unknown').head(10).plot.bar(figsize=[12,6], grid=True, alpha=0.8)\n",
    "plt.yticks(fontsize=10)\n",
    "plt.xticks(fontsize=10)\n",
    "plt.xlabel(\"Cities\", fontsize=15)\n",
    "plt.ylabel(\"Number of Attacks\", fontsize=15)\n",
    "plt.xticks(rotation=70)\n",
    "plt.title(\"Most Targeted Cities\", fontsize=16, color = 'r')\n",
    "plt.show()"
   ]
  },
  {
   "cell_type": "code",
   "execution_count": null,
   "metadata": {},
   "outputs": [],
   "source": [
    "# Most targeted cities\n",
    "\n",
    "TR_Terror.City.value_counts().drop('Unknown').head(10).plot.bar(figsize=[12,6], grid=True, alpha=0.8)\n",
    "plt.yticks(fontsize=10)\n",
    "plt.xticks(fontsize=10)\n",
    "plt.xlabel(\"Cities\", fontsize=15)\n",
    "plt.ylabel(\"Number of Attacks\", fontsize=15)\n",
    "plt.xticks(rotation=70)\n",
    "plt.title(\"Most Targeted Cities\", fontsize=16, color = 'r')\n",
    "plt.show()"
   ]
  },
  {
   "cell_type": "code",
   "execution_count": null,
   "metadata": {
    "scrolled": true
   },
   "outputs": [],
   "source": [
    "!pip install wordcloud"
   ]
  },
  {
   "cell_type": "code",
   "execution_count": null,
   "metadata": {},
   "outputs": [],
   "source": [
    "from wordcloud import WordCloud\n",
    "df = TR_Terror[TR_Terror.City != 'Unknown']\n",
    "wordcloud = WordCloud(max_font_size=80, max_words=100, background_color=\"yellow\").generate(\" \".join(df.City))\n",
    "plt.figure()\n",
    "plt.imshow(wordcloud, interpolation=\"bilinear\")\n",
    "plt.axis(\"off\")\n",
    "plt.savefig(\"graph.png\")\n",
    "plt.show()"
   ]
  },
  {
   "cell_type": "code",
   "execution_count": null,
   "metadata": {
    "scrolled": false
   },
   "outputs": [],
   "source": [
    "# Attacking methods by terrorists in Turkey\n",
    "\n",
    "plt.subplots(figsize=(14,6))\n",
    "sns.countplot('AttackType', data=TR_Terror,palette='Spectral',order=TR_Terror['AttackType'].value_counts().index)\n",
    "plt.xticks(rotation=70)\n",
    "plt.title('Attacking Methods by Terrorists', fontsize=16, color='red')\n",
    "plt.show()"
   ]
  },
  {
   "cell_type": "code",
   "execution_count": null,
   "metadata": {},
   "outputs": [],
   "source": [
    "# Favorite targets of terrorists in Turkey\n",
    "\n",
    "plt.subplots(figsize=(14,6))\n",
    "sns.countplot(Terror['Target_type'],palette='Spectral',order=Terror['Target_type'].value_counts().index)\n",
    "plt.xticks(rotation=90)\n",
    "plt.title('Favorite Targets of Terrorists', fontsize=16, color='red')\n",
    "plt.show()"
   ]
  },
  {
   "cell_type": "code",
   "execution_count": null,
   "metadata": {},
   "outputs": [],
   "source": [
    "sns.barplot(TR_Terror['Group'].value_counts()[0:12],TR_Terror['Group'].value_counts()[0:12].index,palette=('Spectral'))\n",
    "plt.xticks(rotation=90)\n",
    "fig=plt.gcf()\n",
    "fig.set_size_inches(10,8)\n",
    "plt.title('Terrorist Groups by Highest Terror Attacks', fontsize=16, color='red')\n",
    "plt.show()"
   ]
  },
  {
   "cell_type": "code",
   "execution_count": null,
   "metadata": {},
   "outputs": [],
   "source": [
    "TR_Terror.corr()"
   ]
  },
  {
   "cell_type": "code",
   "execution_count": null,
   "metadata": {},
   "outputs": [],
   "source": [
    "f,ax = plt.subplots(figsize=(13, 13))\n",
    "sns.heatmap(TR_Terror.corr(), annot=True, linewidths=.5, fmt= '.1f',ax=ax)\n",
    "plt.show()"
   ]
  },
  {
   "cell_type": "code",
   "execution_count": null,
   "metadata": {},
   "outputs": [],
   "source": [
    "PKK=TR_Terror[TR_Terror['Group']==\"Kurdistan Workers' Party (PKK)\"]\n",
    "PKK"
   ]
  },
  {
   "cell_type": "code",
   "execution_count": null,
   "metadata": {},
   "outputs": [],
   "source": [
    "stats.ttest_ind()"
   ]
  },
  {
   "cell_type": "markdown",
   "metadata": {},
   "source": [
    "### Conclusions\n",
    "\n",
    "At the end of this analysis we conclude that;\n",
    "- When we look at number of terrorist activities through the World; we see that especially after 9/11, three years seems to be stable but from 2005 to 2014 there is really a steady increase, even though there seems to be a decrease until 2017, the activities after 2005 until today are really high level than before 2005 till 1970.\n",
    "- Number of terrorist activities in Middle East & North Africa is at the highest point, after then comes South Asia. In the Middle East, Iraq is the first country with its terrorist activities and killed people. After Iraq comes Pakistan and Afghanistan. The terrorists use bombings/explosions as method during their attacks. And the favorite target of the attacks is private citizens/properties and then respectively; military, police, government and business parts of the countries. \n",
    "- Most of the terror attacks were held by Taliban, then ISIL.\n",
    "- When we look at number of terrorist activities through Turkey; especially after 1987 until 1999 there seems to be an increase. This is because of the Kurdistan Worker’s Party (PKK)’s occurence. On the other hand there is again an increase on the activities after 2014 till today. We can say that the activities in Turkey is not related with 9/11. There is some another characteristic specialities and related terrorism events of the country because of its geographical position between Europe and Asia.\n",
    "- Number of terrorist activities in İstanbul is at the highest point, after then comes ankara and Diyarbakır. The terrorists use bombings/explosions and then armed assault as a method during their attacks. And the favorite target of the attacks is private citizens/properties and then respectively; military, police, government and business parts of the cities like the scene at World. \n",
    "- Most of the terror attacks were held by Kurdistan Worker’s Party (PKK). \n",
    "\n",
    "\n"
   ]
  }
 ],
 "metadata": {
  "kernelspec": {
   "display_name": "Python 3",
   "language": "python",
   "name": "python3"
  },
  "language_info": {
   "codemirror_mode": {
    "name": "ipython",
    "version": 3
   },
   "file_extension": ".py",
   "mimetype": "text/x-python",
   "name": "python",
   "nbconvert_exporter": "python",
   "pygments_lexer": "ipython3",
   "version": "3.7.0"
  }
 },
 "nbformat": 4,
 "nbformat_minor": 2
}
